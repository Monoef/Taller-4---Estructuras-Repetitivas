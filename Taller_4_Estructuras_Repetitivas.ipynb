{
  "nbformat": 4,
  "nbformat_minor": 0,
  "metadata": {
    "colab": {
      "provenance": [],
      "authorship_tag": "ABX9TyMuwCTZKFkV4vubNEkgP7gl",
      "include_colab_link": true
    },
    "kernelspec": {
      "name": "python3",
      "display_name": "Python 3"
    },
    "language_info": {
      "name": "python"
    }
  },
  "cells": [
    {
      "cell_type": "markdown",
      "metadata": {
        "id": "view-in-github",
        "colab_type": "text"
      },
      "source": [
        "<a href=\"https://colab.research.google.com/github/Monoef/Taller-4---Estructuras-Repetitivas/blob/main/Taller_4_Estructuras_Repetitivas.ipynb\" target=\"_parent\"><img src=\"https://colab.research.google.com/assets/colab-badge.svg\" alt=\"Open In Colab\"/></a>"
      ]
    },
    {
      "cell_type": "markdown",
      "source": [
        "TALLER 3 - ESTRUCTURAS REPETITIVAS\n",
        "Presentado por:\n",
        "1. ERICK FLOREZ SALGADO - 000415292 - Erick.florez@upb.edu.co\n",
        "2. ISAAC VILORIA ARGEL - 000523573 - Isaac.viloria@upb.edu.co"
      ],
      "metadata": {
        "id": "1HHDK1tpNWZI"
      }
    },
    {
      "cell_type": "markdown",
      "source": [
        "#EJERCICIO 2.\n",
        "\n",
        "\n",
        "*   CALCULADORA DE PROMEDIO PODERADO\n",
        "\n",
        "# Algoritmo\n",
        "\n",
        "1. INICIO\n",
        "2. LISTA VACIA PARA ALMACENAR LAS NOTAS Y SUS PORCENTAJES\n",
        "3. SOLICITUD AL USUARIO EL INGRESO DE NOTAS Y PORCENTAJES\n",
        "4. GUARDAR AMBOS VALORES\n",
        "5. PREGUNTAR SI DESEA INGRESAR OTRA NOTA\n",
        "6. REPETIR EL PROCESO\n",
        "7. CALCULO DE PROMEDIO PODERADO\n",
        "8. DIVIDIR LA SUMA DE LAS NOTAS ENTRE LA SUMA DE LOS PORCENTAJES\n",
        "9. MOSTRAR EL PROMEDIO PODERADO\n",
        "10. FIN\n",
        "\n",
        "\n"
      ],
      "metadata": {
        "id": "VB_wPQqzN2NY"
      }
    },
    {
      "cell_type": "markdown",
      "source": [
        "# PSEUDOCODIGO\n",
        "```\n",
        "Start\n",
        "Declare lista_notas COMO lista vacía\n",
        "Declare lista_porcentajes COMO lista vacía\n",
        "Declare continuar COMO 'sí'\n",
        "    \n",
        "MIENTRAS continuar SEA igual a 'sí' HACER\n",
        "Leer nota\n",
        "Leer porcentaje\n",
        "Añadir nota A lista_notas\n",
        "Añadir porcentaje A lista_porcentajes\n",
        "print \"¿Deseas ingresar otra nota? (sí/no)\"\n",
        "End if\n",
        "Leer continuar\n",
        "Declare suma_ponderada COMO 0\n",
        "Declare suma_porcentajes COMO 0\n",
        "PARA cada indice DESDE 0 HASTA longitud(lista_notas) - 1 HACER\n",
        "suma_ponderada = suma_ponderada + (lista_notas[indice] * lista_porcentajes[indice])\n",
        "Else\n",
        "suma_porcentajes = suma_porcentajes + lista_porcentajes[indice]\n",
        "\n",
        "End\n",
        "  \n",
        "    \n",
        "    \n",
        "```\n",
        "\n"
      ],
      "metadata": {
        "id": "lWN0OkbmQWhF"
      }
    },
    {
      "cell_type": "code",
      "source": [
        "def calcular_promedio_ponderado():\n",
        "    # Listas de ejemplo con notas y porcentajes\n",
        "    notas = [3.8, 4.2, 4.0]  # Notas\n",
        "    porcentajes = [0.40, 0.35, 0.50]  # Porcentajes como decimales (40% -> 0.40)\n",
        "\n",
        "    # Calcular el promedio ponderado\n",
        "    suma_ponderada = sum(nota * porcentaje for nota, porcentaje in zip(notas, porcentajes))\n",
        "    suma_porcentajes = sum(porcentajes)\n",
        "\n",
        "    # Evitar división por cero\n",
        "    if suma_porcentajes == 0:\n",
        "        print(\"Error: la suma de los porcentajes es cero.\")\n",
        "        return\n",
        "\n",
        "    promedio_ponderado = suma_ponderada / suma_porcentajes\n",
        "    print(f\"El promedio ponderado es: {promedio_ponderado:.2f}\")\n",
        "\n",
        "# Llamar a la función\n",
        "calcular_promedio_ponderado()"
      ],
      "metadata": {
        "colab": {
          "base_uri": "https://localhost:8080/"
        },
        "id": "XTjjfnt2VM26",
        "outputId": "24c40a97-293f-4ec7-c929-e7c599d66b3e"
      },
      "execution_count": 9,
      "outputs": [
        {
          "output_type": "stream",
          "name": "stdout",
          "text": [
            "El promedio ponderado es: 3.99\n"
          ]
        }
      ]
    },
    {
      "cell_type": "markdown",
      "source": [
        "# EJERCICIO 3.\n",
        "- JUEGO DE CARA O SELLO\n",
        "\n",
        "#ALGORITMO\n",
        "\n",
        "1. Iniciar el juego con 0 puntos.\n",
        "2. Generar aleatoriamente \"cara\" o \"sello\".\n",
        "3. Solicitar al usuario una adivinanza.\n",
        "4. Comprobar si la adivinanza es correcta o incorrecta.\n",
        "5. Si es correcta, sumar un punto. Si es incorrecta, restar un intento.\n",
        "6. Repetir el proceso hasta que el usuario se quede sin intentos o decida no continuar.\n",
        "7. Al finalizar, mostrar los puntos obtenidos.\n",
        "8. Preguntar si el usuario desea jugar de nuevo. Si responde \"sí\", reiniciar el juego."
      ],
      "metadata": {
        "id": "qcpbRiO-ZMqj"
      }
    },
    {
      "cell_type": "markdown",
      "source": [
        "#PSEUDOCODIGO\n",
        "\n",
        "# PSEUDOCODIGO\n",
        "```\n",
        "Start\n",
        "START\n",
        "SET puntos TO 0\n",
        "SET intentos TO 3\n",
        "SET jugadas_usuario TO ['sello', 'cara', 'cara', 'sello', 'cara']  # Adivinanzas predeterminadas\n",
        "SET jugadas_totales TO longitud(jugadas_usuario)\n",
        "    \n",
        "FOR i FROM 0 TO jugadas_totales - 1 DO\n",
        "IF intentos IS 0 THEN\n",
        "BREAK  # Terminar el juego si no quedan intentos\n",
        "END IF\n",
        "        \n",
        "SET resultado TO random.choice(\"cara\", \"sello\")  # Generar aleatorio\n",
        "        \n",
        "SET adivinanza TO jugadas_usuario[i]  # Tomar la jugada del usuario    \n",
        "PRINT \"Adivinanza:\", adivinanza, \"Resultado real:\", resultado\n",
        "IF adivinanza IS EQUAL TO resultado THEN\n",
        "puntos = puntos + 1\n",
        "PRINT \"¡Correcto! Tienes\", puntos, \"puntos.\"\n",
        "ELSE\n",
        "intentos = intentos - 1\n",
        "PRINT \"Incorrecto. Te quedan\", intentos, \"intentos.\"\n",
        "END IF\n",
        "END FOR\n",
        "PRINT \"Has conseguido\", puntos, \"puntos al final del juego.\"\n",
        "END\n",
        "\n",
        "\n"
      ],
      "metadata": {
        "id": "Ubr2YBSraHZ-"
      }
    },
    {
      "cell_type": "code",
      "source": [
        "import random\n",
        "\n",
        "def juego_cara_o_sello():\n",
        "    # Valores predeterminados para las jugadas del usuario (ejemplo)\n",
        "    jugadas_usuario = ['sello', 'cara', 'cara', 'sello', 'cara']  # Adivinanzas del usuario\n",
        "    jugadas_totales = len(jugadas_usuario)  # Número total de jugadas\n",
        "\n",
        "    puntos = 0\n",
        "    intentos = 3\n",
        "\n",
        "    for i in range(jugadas_totales):\n",
        "        if intentos == 0:\n",
        "            break\n",
        "\n",
        "        # Generar aleatoriamente \"cara\" o \"sello\"\n",
        "        resultado = random.choice([\"cara\", \"sello\"])\n",
        "\n",
        "        # Tomar la jugada del usuario en orden\n",
        "        adivinanza = jugadas_usuario[i]\n",
        "\n",
        "        print(f\"Adivinanza: {adivinanza} | Resultado real: {resultado}\")\n",
        "\n",
        "        if adivinanza == resultado:\n",
        "            puntos += 1\n",
        "            print(f\"¡Correcto! Tienes {puntos} puntos.\")\n",
        "        else:\n",
        "            intentos -= 1\n",
        "            print(f\"Incorrecto. Te quedan {intentos} intentos.\")\n",
        "\n",
        "    print(f\"\\nHas conseguido {puntos} puntos al final del juego.\")\n",
        "\n",
        "# Llamar a la función\n",
        "juego_cara_o_sello()"
      ],
      "metadata": {
        "colab": {
          "base_uri": "https://localhost:8080/"
        },
        "id": "0P6xKTBibK9H",
        "outputId": "fb9dd611-edf5-4ed9-a000-7e14d64f04fa"
      },
      "execution_count": 41,
      "outputs": [
        {
          "output_type": "stream",
          "name": "stdout",
          "text": [
            "Adivinanza: sello | Resultado real: sello\n",
            "¡Correcto! Tienes 1 puntos.\n",
            "Adivinanza: cara | Resultado real: cara\n",
            "¡Correcto! Tienes 2 puntos.\n",
            "Adivinanza: cara | Resultado real: sello\n",
            "Incorrecto. Te quedan 2 intentos.\n",
            "Adivinanza: sello | Resultado real: sello\n",
            "¡Correcto! Tienes 3 puntos.\n",
            "Adivinanza: cara | Resultado real: sello\n",
            "Incorrecto. Te quedan 1 intentos.\n",
            "\n",
            "Has conseguido 3 puntos al final del juego.\n"
          ]
        }
      ]
    },
    {
      "cell_type": "code",
      "source": [],
      "metadata": {
        "id": "ncNl0hrFcLK0"
      },
      "execution_count": null,
      "outputs": []
    }
  ]
}